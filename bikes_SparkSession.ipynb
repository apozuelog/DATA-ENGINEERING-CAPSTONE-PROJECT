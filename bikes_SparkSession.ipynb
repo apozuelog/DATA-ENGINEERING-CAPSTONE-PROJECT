{
 "cells": [
  {
   "cell_type": "code",
   "execution_count": 41,
   "metadata": {
    "editable": true
   },
   "outputs": [
    {
     "name": "stdout",
     "output_type": "stream",
     "text": [
      "Creating spark session...\n",
      "... DONE!!!\n",
      "Load *csv ...\n",
      "... DONE!!!\n",
      "ALL OOOK MAN!!!...\n"
     ]
    }
   ],
   "source": [
    "%run -i bikes_trips.py"
   ]
  },
  {
   "cell_type": "code",
   "execution_count": null,
   "metadata": {
    "editable": true
   },
   "outputs": [],
   "source": [
    "# Import libraries\n",
    "import configparser\n",
    "from datetime import datetime\n",
    "import os\n",
    "import pandas as pd\n",
    "from pyspark.sql import SparkSession\n",
    "from pyspark.sql.functions import udf, col\n",
    "from pyspark.sql.functions import year, month, dayofmonth, hour, weekofyear, dayofweek, date_format, monotonically_increasing_id"
   ]
  },
  {
   "cell_type": "code",
   "execution_count": 2,
   "metadata": {
    "editable": true
   },
   "outputs": [],
   "source": [
    "config = configparser.ConfigParser()\n",
    "config.read('dl.cfg')\n",
    "\n",
    "os.environ['AWS_ACCESS_KEY_ID']=config['AWS']['AWS_ACCESS_KEY_ID']\n",
    "os.environ['AWS_SECRET_ACCESS_KEY']=config['AWS']['AWS_SECRET_ACCESS_KEY']"
   ]
  },
  {
   "cell_type": "code",
   "execution_count": 3,
   "metadata": {
    "editable": true
   },
   "outputs": [],
   "source": [
    "def create_spark_session():\n",
    "    print('Creating spark session...')\n",
    "    spark = SparkSession \\\n",
    "        .builder \\\n",
    "        .config(\"spark.jars.packages\", \"org.apache.hadoop:hadoop-aws:2.7.0\") \\\n",
    "        .getOrCreate()\n",
    "    return spark"
   ]
  },
  {
   "cell_type": "code",
   "execution_count": 4,
   "metadata": {
    "editable": true
   },
   "outputs": [
    {
     "name": "stdout",
     "output_type": "stream",
     "text": [
      "Creating spark session...\n",
      "Data read DONE!!!...\n"
     ]
    }
   ],
   "source": [
    "spark = create_spark_session()\n",
    "print('... DONE!!!')\n",
    "print('Load *csv ...')\n",
    "df = spark.read.format(\"csv\").option(\"header\", \"true\").option(\"inferSchema\", \"true\").load(\"s3a://aws-logs-004583112324-us-west-2/fp/csv/*.csv\")\n",
    "print('... DONE!!!')"
   ]
  },
  {
   "cell_type": "code",
   "execution_count": 5,
   "metadata": {
    "editable": true
   },
   "outputs": [
    {
     "data": {
      "text/plain": [
       "[('duration_sec', 'int'),\n",
       " ('start_time', 'timestamp'),\n",
       " ('end_time', 'timestamp'),\n",
       " ('start_station_id', 'string'),\n",
       " ('start_station_name', 'string'),\n",
       " ('start_station_latitude', 'double'),\n",
       " ('start_station_longitude', 'double'),\n",
       " ('end_station_id', 'string'),\n",
       " ('end_station_name', 'string'),\n",
       " ('end_station_latitude', 'double'),\n",
       " ('end_station_longitude', 'double'),\n",
       " ('bike_id', 'int'),\n",
       " ('user_type', 'string'),\n",
       " ('member_birth_year', 'int'),\n",
       " ('member_gender', 'string'),\n",
       " ('bike_share_for_all_trip', 'string')]"
      ]
     },
     "execution_count": 5,
     "metadata": {},
     "output_type": "execute_result"
    }
   ],
   "source": [
    "# tipos de columnas\n",
    "df.dtypes"
   ]
  },
  {
   "cell_type": "code",
   "execution_count": 6,
   "metadata": {
    "editable": true
   },
   "outputs": [],
   "source": [
    "# drop duplicates\n",
    "bike_trip = df.dropDuplicates()"
   ]
  },
  {
   "cell_type": "code",
   "execution_count": 8,
   "metadata": {
    "editable": true
   },
   "outputs": [],
   "source": [
    "# --------------------------------\n",
    "# ------ CREATE TIME TABLE -------\n",
    "# --------------------------------"
   ]
  },
  {
   "cell_type": "code",
   "execution_count": 9,
   "metadata": {
    "editable": true
   },
   "outputs": [],
   "source": [
    "# extract columns to create TIME_TABLE\n",
    "time_table = bike_trip.select('start_time')\\\n",
    "        .withColumn('hour', hour('start_time'))\\\n",
    "        .withColumn('day', dayofmonth('start_time')) \\\n",
    "        .withColumn('week', weekofyear('start_time')) \\\n",
    "        .withColumn('month', month('start_time')) \\\n",
    "        .withColumn('year', year('start_time')) \\\n",
    "        .withColumn('weekday', dayofweek('start_time')) \\\n",
    "        .dropDuplicates()"
   ]
  },
  {
   "cell_type": "code",
   "execution_count": 10,
   "metadata": {
    "editable": true
   },
   "outputs": [
    {
     "data": {
      "text/plain": [
       "[('start_time', 'timestamp'),\n",
       " ('hour', 'int'),\n",
       " ('day', 'int'),\n",
       " ('week', 'int'),\n",
       " ('month', 'int'),\n",
       " ('year', 'int'),\n",
       " ('weekday', 'int')]"
      ]
     },
     "execution_count": 10,
     "metadata": {},
     "output_type": "execute_result"
    }
   ],
   "source": [
    "# TIME_TABLE\n",
    "time_table.dtypes"
   ]
  },
  {
   "cell_type": "code",
   "execution_count": 11,
   "metadata": {
    "editable": true
   },
   "outputs": [],
   "source": [
    "# --------------------------------\n",
    "# ----- CREATE STATION TABLE -----\n",
    "# --------------------------------"
   ]
  },
  {
   "cell_type": "code",
   "execution_count": 12,
   "metadata": {
    "editable": true
   },
   "outputs": [],
   "source": [
    "s_start = bike_trip.select('start_station_id', 'start_station_name', 'start_station_latitude', 'start_station_longitude').dropDuplicates()\n",
    "s_end = bike_trip.select('end_station_id', 'end_station_name', 'end_station_latitude', 'end_station_longitude').dropDuplicates()\n",
    "a = s_start.alias('a')\n",
    "b = s_end.alias('b')"
   ]
  },
  {
   "cell_type": "code",
   "execution_count": 13,
   "metadata": {
    "editable": true
   },
   "outputs": [],
   "source": [
    "# JOIN TO ONLY ONE STATION_ID\n",
    "stations_table = a.join(b, (a.start_station_id == b.end_station_id) & (a.start_station_name == b.end_station_name) & \\\n",
    "                           (a.start_station_latitude == b.end_station_latitude), 'inner')"
   ]
  },
  {
   "cell_type": "code",
   "execution_count": 14,
   "metadata": {
    "editable": true
   },
   "outputs": [],
   "source": [
    "# extract columns for STATIONS_TABLE\n",
    "stations_table = stations_table.select('start_station_id', 'start_station_name', 'start_station_latitude', 'start_station_longitude') \\\n",
    "                    .dropDuplicates() \\\n",
    "                    .withColumnRenamed('start_station_id', 'station_id') \\\n",
    "                    .withColumnRenamed('start_station_name', 'station_name') \\\n",
    "                    .withColumnRenamed('start_station_latitude', 'station_lat') \\\n",
    "                    .withColumnRenamed('start_station_longitude', 'station_lon') \\\n",
    "                    .na.drop()"
   ]
  },
  {
   "cell_type": "code",
   "execution_count": 15,
   "metadata": {
    "editable": true
   },
   "outputs": [],
   "source": [
    "# DROP station_id nulls\n",
    "stations_table=stations_table.where(col(\"station_id\")!='NULL')"
   ]
  },
  {
   "cell_type": "code",
   "execution_count": 16,
   "metadata": {
    "editable": true
   },
   "outputs": [],
   "source": [
    "# station_id cast to int\n",
    "from pyspark.sql.types import IntegerType\n",
    "stations_table = stations_table.withColumn(\"station_id\", stations_table[\"station_id\"].cast(IntegerType()))"
   ]
  },
  {
   "cell_type": "code",
   "execution_count": 17,
   "metadata": {
    "editable": true
   },
   "outputs": [
    {
     "data": {
      "text/plain": [
       "[('station_id', 'int'),\n",
       " ('station_name', 'string'),\n",
       " ('station_lat', 'double'),\n",
       " ('station_lon', 'double')]"
      ]
     },
     "execution_count": 17,
     "metadata": {},
     "output_type": "execute_result"
    }
   ],
   "source": [
    "# STATIONS_TABLE\n",
    "stations_table.dtypes"
   ]
  },
  {
   "cell_type": "code",
   "execution_count": 18,
   "metadata": {
    "editable": true
   },
   "outputs": [],
   "source": [
    "# ------------------------------\n",
    "# ----- CREATE USERS TABLE -----\n",
    "# ------------------------------"
   ]
  },
  {
   "cell_type": "code",
   "execution_count": 19,
   "metadata": {
    "editable": true
   },
   "outputs": [],
   "source": [
    "users_table = bike_trip.select('user_type', 'member_birth_year', 'member_gender', 'bike_share_for_all_trip') \\\n",
    "                    .dropDuplicates() \\\n",
    "                    .withColumnRenamed('user_type', 'user_type') \\\n",
    "                    .withColumnRenamed('member_birth_year', 'birth_year') \\\n",
    "                    .withColumnRenamed('member_gender', 'gender') \\\n",
    "                    .withColumnRenamed('bike_share_for_all_trip', 'share') \\\n",
    "                    .na.drop()"
   ]
  },
  {
   "cell_type": "code",
   "execution_count": 20,
   "metadata": {
    "editable": true
   },
   "outputs": [
    {
     "data": {
      "text/plain": [
       "[('user_type', 'string'),\n",
       " ('birth_year', 'int'),\n",
       " ('gender', 'string'),\n",
       " ('share', 'string')]"
      ]
     },
     "execution_count": 20,
     "metadata": {},
     "output_type": "execute_result"
    }
   ],
   "source": [
    "# USER_TABLE\n",
    "users_table.dtypes"
   ]
  },
  {
   "cell_type": "code",
   "execution_count": 21,
   "metadata": {
    "editable": true
   },
   "outputs": [],
   "source": [
    "# ------------------------------\n",
    "# ----- CREATE BIKES TABLE -----\n",
    "# ------------------------------"
   ]
  },
  {
   "cell_type": "code",
   "execution_count": 22,
   "metadata": {
    "editable": true
   },
   "outputs": [],
   "source": [
    "bikes_table = bike_trip.select(\"bike_id\")\n",
    "bikes_table = bikes_table.withColumn(\"bike_id\", bikes_table[\"bike_id\"].cast(IntegerType())).dropDuplicates()"
   ]
  },
  {
   "cell_type": "code",
   "execution_count": 23,
   "metadata": {
    "editable": true
   },
   "outputs": [
    {
     "data": {
      "text/plain": [
       "[('bike_id', 'int')]"
      ]
     },
     "execution_count": 23,
     "metadata": {},
     "output_type": "execute_result"
    }
   ],
   "source": [
    "# USER_TABLE\n",
    "bikes_table.dtypes"
   ]
  },
  {
   "cell_type": "code",
   "execution_count": 24,
   "metadata": {
    "editable": true
   },
   "outputs": [],
   "source": [
    "# ------------------------------------\n",
    "# ---- CREATE STATING TRIPS TABLE ----\n",
    "# ------------------------------------"
   ]
  },
  {
   "cell_type": "code",
   "execution_count": 25,
   "metadata": {
    "editable": true
   },
   "outputs": [],
   "source": [
    "trips_table = bike_trip.dropDuplicates() "
   ]
  },
  {
   "cell_type": "code",
   "execution_count": 36,
   "metadata": {
    "editable": true
   },
   "outputs": [],
   "source": [
    "# Create trip_id\n",
    "from pyspark.sql.functions import monotonically_increasing_id\n",
    "trips_table = trips_table.select(\"*\").withColumn(\"trip_id\", monotonically_increasing_id())\n",
    "staging_trips_table = trips_table.select('trip_id', 'start_time', 'end_time', 'duration_sec', 'start_station_id', 'start_station_name', 'start_station_latitude', 'start_station_longitude', \\\n",
    "                                'end_station_id', 'end_station_name', 'end_station_latitude', 'end_station_longitude', 'bike_id', 'user_type', 'member_birth_year', 'member_gender')\n",
    "staging_trips_table = staging_trips_table.withColumn(\"end_station_id\", staging_trips_table[\"end_station_id\"].cast(IntegerType()))"
   ]
  },
  {
   "cell_type": "code",
   "execution_count": 37,
   "metadata": {
    "editable": true
   },
   "outputs": [
    {
     "data": {
      "text/plain": [
       "[('trip_id', 'bigint'),\n",
       " ('start_time', 'timestamp'),\n",
       " ('end_time', 'timestamp'),\n",
       " ('duration_sec', 'int'),\n",
       " ('start_station_id', 'string'),\n",
       " ('start_station_name', 'string'),\n",
       " ('start_station_latitude', 'double'),\n",
       " ('start_station_longitude', 'double'),\n",
       " ('end_station_id', 'int'),\n",
       " ('end_station_name', 'string'),\n",
       " ('end_station_latitude', 'double'),\n",
       " ('end_station_longitude', 'double'),\n",
       " ('bike_id', 'int'),\n",
       " ('user_type', 'string'),\n",
       " ('member_birth_year', 'int'),\n",
       " ('member_gender', 'string')]"
      ]
     },
     "execution_count": 37,
     "metadata": {},
     "output_type": "execute_result"
    }
   ],
   "source": [
    "staging_trips_table.dtypes"
   ]
  },
  {
   "cell_type": "code",
   "execution_count": null,
   "metadata": {
    "editable": true
   },
   "outputs": [],
   "source": [
    "# ---------------------------------\n",
    "# ---- CREATE BIKE TRIPS TABLE ----\n",
    "# ---------------------------------"
   ]
  },
  {
   "cell_type": "code",
   "execution_count": null,
   "metadata": {
    "editable": true
   },
   "outputs": [],
   "source": []
  },
  {
   "cell_type": "code",
   "execution_count": null,
   "metadata": {
    "editable": true
   },
   "outputs": [],
   "source": []
  },
  {
   "cell_type": "code",
   "execution_count": null,
   "metadata": {
    "editable": true
   },
   "outputs": [],
   "source": []
  },
  {
   "cell_type": "code",
   "execution_count": null,
   "metadata": {
    "editable": true
   },
   "outputs": [],
   "source": []
  },
  {
   "cell_type": "code",
   "execution_count": null,
   "metadata": {
    "editable": true
   },
   "outputs": [],
   "source": []
  },
  {
   "cell_type": "code",
   "execution_count": null,
   "metadata": {
    "editable": true
   },
   "outputs": [],
   "source": []
  },
  {
   "cell_type": "code",
   "execution_count": null,
   "metadata": {
    "editable": true
   },
   "outputs": [],
   "source": []
  },
  {
   "cell_type": "code",
   "execution_count": null,
   "metadata": {
    "editable": true
   },
   "outputs": [],
   "source": []
  }
 ],
 "metadata": {
  "kernelspec": {
   "display_name": "Python 3",
   "language": "python",
   "name": "python3"
  },
  "language_info": {
   "codemirror_mode": {
    "name": "ipython",
    "version": 3
   },
   "file_extension": ".py",
   "mimetype": "text/x-python",
   "name": "python",
   "nbconvert_exporter": "python",
   "pygments_lexer": "ipython3",
   "version": "3.6.3"
  }
 },
 "nbformat": 4,
 "nbformat_minor": 4
}
